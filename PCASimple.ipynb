{
 "cells": [
  {
   "cell_type": "code",
   "execution_count": 1,
   "id": "2eb9849c",
   "metadata": {},
   "outputs": [],
   "source": [
    "import pandas as pd"
   ]
  },
  {
   "cell_type": "code",
   "execution_count": 2,
   "id": "73098e6f",
   "metadata": {},
   "outputs": [],
   "source": [
    "import numpy as np"
   ]
  },
  {
   "cell_type": "code",
   "execution_count": 3,
   "id": "416e3c3b",
   "metadata": {},
   "outputs": [],
   "source": [
    "import random as rd"
   ]
  },
  {
   "cell_type": "code",
   "execution_count": 4,
   "id": "364516c5",
   "metadata": {},
   "outputs": [],
   "source": [
    "from sklearn.decomposition import PCA"
   ]
  },
  {
   "cell_type": "code",
   "execution_count": 5,
   "id": "3427e0d0",
   "metadata": {},
   "outputs": [],
   "source": [
    "from sklearn import preprocessing"
   ]
  },
  {
   "cell_type": "code",
   "execution_count": 27,
   "id": "ebe42138",
   "metadata": {},
   "outputs": [],
   "source": [
    "import matplotlib.pyplot as plt"
   ]
  },
  {
   "cell_type": "markdown",
   "id": "63047bea",
   "metadata": {},
   "source": [
    "# GENERATE DATA"
   ]
  },
  {
   "cell_type": "code",
   "execution_count": 6,
   "id": "93102851",
   "metadata": {},
   "outputs": [],
   "source": [
    "market_cap = ['market_cap' + str(i) for i in range(1,101)]"
   ]
  },
  {
   "cell_type": "code",
   "execution_count": 7,
   "id": "65f1524b",
   "metadata": {},
   "outputs": [],
   "source": [
    "wt = ['wt' + str(i) for i in range(1,6)]"
   ]
  },
  {
   "cell_type": "code",
   "execution_count": 8,
   "id": "f2a9a1e5",
   "metadata": {},
   "outputs": [],
   "source": [
    "ko = ['ko' + str(i) for i in range(1,6)]"
   ]
  },
  {
   "cell_type": "code",
   "execution_count": 9,
   "id": "e2ee9994",
   "metadata": {},
   "outputs": [],
   "source": [
    "data = pd.DataFrame(columns=[*wt, *ko], index=market_cap)"
   ]
  },
  {
   "cell_type": "code",
   "execution_count": 12,
   "id": "ceb13ef6",
   "metadata": {},
   "outputs": [],
   "source": [
    "for mc in data.index:\n",
    "    data.loc[mc,'wt1':'wt5'] = np.random.poisson(lam=rd.randrange(10,1000), size=5)\n",
    "    data.loc[mc,'ko1':'ko5'] = np.random.poisson(lam=rd.randrange(10,1000), size=5)"
   ]
  },
  {
   "cell_type": "markdown",
   "id": "ceae2db4",
   "metadata": {},
   "source": [
    "# PCA"
   ]
  },
  {
   "cell_type": "code",
   "execution_count": 20,
   "id": "006b933e",
   "metadata": {},
   "outputs": [],
   "source": [
    "scaled_data = preprocessing.scale(data.T) #UNTUK MELAKUKAN PEMUSATAN DAN MELAKUKAN SCALING (NORMALISASI) TERHADAP DATA "
   ]
  },
  {
   "cell_type": "code",
   "execution_count": 21,
   "id": "70f03e8e",
   "metadata": {},
   "outputs": [],
   "source": [
    "pca = PCA()\n",
    "pca.fit(scaled_data)\n",
    "pca_data = pca.transform(scaled_data)"
   ]
  },
  {
   "cell_type": "code",
   "execution_count": 23,
   "id": "046e2c86",
   "metadata": {},
   "outputs": [],
   "source": [
    "var = np.round(pca.explained_variance_ratio_*100, decimals=1)  #KALKULASI PERSENTASE DARI VARIASI UNTUK SETIAP PRINCIPAL COMPONENT"
   ]
  },
  {
   "cell_type": "code",
   "execution_count": 24,
   "id": "78763d74",
   "metadata": {},
   "outputs": [],
   "source": [
    "labels = ['PC' + str(x) for x in range(1, len(var)+1)]"
   ]
  },
  {
   "cell_type": "code",
   "execution_count": 30,
   "id": "d6729b25",
   "metadata": {},
   "outputs": [
    {
     "data": {
      "image/png": "[encoded data removed]",
      "text/plain": [
       "<Figure size 432x288 with 1 Axes>"
      ]
     },
     "metadata": {
      "needs_background": "light"
     },
     "output_type": "display_data"
    }
   ],
   "source": [
    "plt.bar(x=range(1,len(var)+1), height=var, tick_label=labels)\n",
    "plt.ylabel('Persentase dari varians yang dijelaskan')\n",
    "plt.xlabel('Persentase dari varians yang dijelaskan')\n",
    "plt.show()"
   ]
  },
  {
   "cell_type": "code",
   "execution_count": 31,
   "id": "0b1acd0c",
   "metadata": {},
   "outputs": [],
   "source": [
    "#HAMPIR SELURUH VARIANS TERBESAR BERADA DI PC1 SEHINGGA PC1 dan PC2 SEHARUSNYA MAMPU MEWAKILI ORIGINAL DATA (2D GRAPH)"
   ]
  },
  {
   "cell_type": "markdown",
   "id": "283d5db6",
   "metadata": {},
   "source": [
    "# PCA PLOT"
   ]
  },
  {
   "cell_type": "code",
   "execution_count": 33,
   "id": "e96ab6a7",
   "metadata": {},
   "outputs": [],
   "source": [
    "pca_df = pd.DataFrame(pca_data, index=[*wt, *ko], columns=labels)"
   ]
  },
  {
   "cell_type": "code",
   "execution_count": 36,
   "id": "288685f9",
   "metadata": {},
   "outputs": [
    {
     "data": {
      "image/png": "[encoded data removed]",
      "text/plain": [
       "<Figure size 432x288 with 1 Axes>"
      ]
     },
     "metadata": {
      "needs_background": "light"
     },
     "output_type": "display_data"
    }
   ],
   "source": [
    "plt.scatter(pca_df.PC1, pca_df.PC2)\n",
    "for sample in pca_df.index:\n",
    "    plt.annotate(sample, (pca_df.PC1.loc[sample], pca_df.PC2.loc[sample]))"
   ]
  },
  {
   "cell_type": "code",
   "execution_count": 40,
   "id": "1c88fb41",
   "metadata": {},
   "outputs": [],
   "source": [
    "#nilai wt berada di sisi kiri menunjukkan bahwa data data tersebut saling berkorelasi\n",
    "#nilai nilai ko berada di sisi kanan menunjukkan bahwa data data tersebut juga saling kerkorelasi\n",
    "#jarak antara cluster wt dan ko sangat jauh menunjukkan bahwa sample sample data mereka sangat jauh\n"
   ]
  },
  {
   "cell_type": "code",
   "execution_count": null,
   "id": "2a497cc9",
   "metadata": {},
   "outputs": [],
   "source": []
  }
 ],
 "metadata": {
  "kernelspec": {
   "display_name": "Python 3",
   "language": "python",
   "name": "python3"
  },
  "language_info": {
   "codemirror_mode": {
    "name": "ipython",
    "version": 3
   },
   "file_extension": ".py",
   "mimetype": "text/x-python",
   "name": "python",
   "nbconvert_exporter": "python",
   "pygments_lexer": "ipython3",
   "version": "3.8.3"
  }
 },
 "nbformat": 4,
 "nbformat_minor": 5
}
